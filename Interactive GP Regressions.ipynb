{
 "cells": [
  {
   "cell_type": "code",
   "execution_count": 30,
   "metadata": {},
   "outputs": [],
   "source": [
    "import ipywidgets as widgets\n",
    "import numpy as np\n",
    "import matplotlib.pyplot as plt\n",
    "from GPy.models.gp_regression import GPRegression\n",
    "from GPy.kern.src.rbf import RBF\n",
    "from GPy.likelihoods import Gaussian"
   ]
  },
  {
   "cell_type": "code",
   "execution_count": 24,
   "metadata": {},
   "outputs": [
    {
     "data": {
      "text/plain": [
       "<matplotlib.collections.PathCollection at 0x1d021b6df08>"
      ]
     },
     "execution_count": 24,
     "metadata": {},
     "output_type": "execute_result"
    },
    {
     "data": {
      "image/png": "[encoded data removed]",
      "text/plain": [
       "<Figure size 432x288 with 1 Axes>"
      ]
     },
     "metadata": {
      "needs_background": "light"
     },
     "output_type": "display_data"
    }
   ],
   "source": [
    "# Generate sine wave data\n",
    "np.random.seed(seed=1234)\n",
    "freq = 3\n",
    "X = np.random.randn(15, 1)\n",
    "Y = np.sin(X * freq)\n",
    "\n",
    "grid = np.linspace(np.min(X), np.max(X), num=50)\n",
    "plt.plot(grid, np.sin(grid * freq), c='r')\n",
    "plt.scatter(X, Y)"
   ]
  },
  {
   "cell_type": "code",
   "execution_count": 74,
   "metadata": {},
   "outputs": [
    {
     "data": {
      "application/vnd.jupyter.widget-view+json": {
       "model_id": "8a60403c88c34886ad827195393eecb7",
       "version_major": 2,
       "version_minor": 0
      },
      "text/plain": [
       "interactive(children=(FloatSlider(value=1.0, description='length_scale', max=2.0, min=0.1), FloatSlider(value=…"
      ]
     },
     "metadata": {},
     "output_type": "display_data"
    },
    {
     "data": {
      "text/plain": [
       "<function __main__.rbf_kernel(length_scale, variance, noise_var)>"
      ]
     },
     "execution_count": 74,
     "metadata": {},
     "output_type": "execute_result"
    }
   ],
   "source": [
    "def rbf_kernel(length_scale, variance, noise_var):\n",
    "    gp = GPRegression(X, Y, kernel=RBF(1, lengthscale=length_scale, variance=variance),\n",
    "                     noise_var=noise_var)\n",
    "    gp.plot()\n",
    "    #plt.plot(grid, np.sin(grid * freq), c='r')\n",
    "\n",
    "widgets.interact(\n",
    "    rbf_kernel, \n",
    "    length_scale=widgets.FloatSlider(\n",
    "        min=0.1,\n",
    "        max=2.0,\n",
    "        step=0.1,\n",
    "        value=1.0),\n",
    "    variance=widgets.FloatSlider(\n",
    "        min=0.1,\n",
    "        max=2.0,\n",
    "        step=0.1,\n",
    "        value=1.0),\n",
    "    noise_var=widgets.FloatSlider(\n",
    "        min=0.0,\n",
    "        max=1.0,\n",
    "        step=0.1,\n",
    "        value=1.0))"
   ]
  },
  {
   "cell_type": "code",
   "execution_count": null,
   "metadata": {},
   "outputs": [],
   "source": []
  }
 ],
 "metadata": {
  "kernelspec": {
   "display_name": "Python 3.7.5 64-bit",
   "language": "python",
   "name": "python37564bite14105d4d57e492b8724367b45e31ffc"
  },
  "language_info": {
   "codemirror_mode": {
    "name": "ipython",
    "version": 3
   },
   "file_extension": ".py",
   "mimetype": "text/x-python",
   "name": "python",
   "nbconvert_exporter": "python",
   "pygments_lexer": "ipython3",
   "version": "3.7.5"
  }
 },
 "nbformat": 4,
 "nbformat_minor": 4
}
